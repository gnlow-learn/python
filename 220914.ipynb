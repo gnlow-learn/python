{
 "cells": [
  {
   "cell_type": "code",
   "execution_count": 1,
   "metadata": {},
   "outputs": [],
   "source": [
    "%load_ext autoreload\n",
    "%autoreload 1\n",
    "%aimport src.log\n",
    "\n",
    "from src.log import log, star\n",
    "    \n",
    "import numpy as np\n",
    "from toolz.functoolz import pipe\n",
    "from numpy.typing import NDArray"
   ]
  },
  {
   "cell_type": "code",
   "execution_count": 3,
   "metadata": {},
   "outputs": [
    {
     "name": "stdout",
     "output_type": "stream",
     "text": [
      " 행렬: <map object at 0x0000021C5658B940>\n",
      " 행렬의 곱셈: <map object at 0x0000021C5658B940>\n"
     ]
    }
   ],
   "source": [
    "@log\n",
    "class 행렬:\n",
    "    def 행렬():\n",
    "        # 행렬은 벡터를 원소로 가지는 2차원 배열\n",
    "        # 1) 행렬은 데이터다.\n",
    "        # 2) 행렬은 벡터 공간에서 사용되는 연산자다.\n",
    "        return np.array([\n",
    "            [1, 2, 3],\n",
    "            [4, 5, 6],\n",
    "            [7, 8, 9],\n",
    "        ])\n",
    "    def 행렬의_곱셈():\n",
    "        x = np.array([\n",
    "            [1, -2, 3],\n",
    "            [7, 5, 0],\n",
    "            [-2, 1, 2]\n",
    "        ])\n",
    "        y = np.array([\n",
    "            [0, 1],\n",
    "            [1, -1],\n",
    "            [-2, 1]\n",
    "        ])\n",
    "        return x @ y\n",
    "    def 항등행렬():\n",
    "        # 어떤 행렬에 곱해도 그 행렬이 나오는 행렬\n",
    "        return np.array([\n",
    "            [1, 0, 0],\n",
    "            [0, 1, 0],\n",
    "            [0, 0, 1],\n",
    "        ])\n",
    "    def 역행렬():\n",
    "        # 어떤 행렬 A의 연산을 거꾸로 되돌리는 행렬을 역행렬이라 부르고 A^-1라 표기한다.\n",
    "        # 역행렬은 행과 열 숫자가 같고(정사각행렬) 행렬식이 0이 아닌 경우에만 계산할 수 있다.\n",
    "            # 아닐 경우 -> 유사 역행렬 또는 무어-펜로즈 역행렬 사용\n",
    "        x = np.array([\n",
    "            [-1, -2, 3],\n",
    "            [0, 1, -1],\n",
    "            [2, 0, 1],\n",
    "        ])\n",
    "        print(x @ np.linalg.inv(x)) # 항등행렬\n",
    "        return np.linalg.inv(x)\n",
    "    def 유사_역행렬_1():\n",
    "        x = np.array([\n",
    "            [0, 1],\n",
    "            [1, -1],\n",
    "            [-2, 1],\n",
    "        ])\n",
    "        print(np.linalg.pinv(x) @ x) # 항등행렬\n",
    "        return np.linalg.pinv(x)\n",
    "    def 유사_역행렬_2():\n",
    "        x = np.array([\n",
    "            [0, 1, -2],\n",
    "            [1, -1, 1],\n",
    "        ])\n",
    "        print(x @ np.linalg.pinv(x)) # 항등행렬\n",
    "        return np.linalg.pinv(x)\n",
    "    def 유사_역행렬_연립방정식():\n",
    "        # 3x1 + 2x2 = 5\n",
    "        # x1 + 3x2 = 7\n",
    "        x = np.array([\n",
    "            [3, 2],\n",
    "            [1, 3],\n",
    "        ])\n",
    "        answer = np.array([\n",
    "            [5],\n",
    "            [7],\n",
    "        ])\n",
    "        return np.linalg.pinv(x)"
   ]
  },
  {
   "cell_type": "code",
   "execution_count": 9,
   "metadata": {},
   "outputs": [
    {
     "name": "stdout",
     "output_type": "stream",
     "text": [
      "[[ 0.42857143 -0.28571429]\n",
      " [-0.14285714  0.42857143]]\n"
     ]
    }
   ],
   "source": [
    "# 3x1 + 2x2 = 5\n",
    "# x1 + 3x2 = 7\n",
    "x = np.array([\n",
    "    [3, 2],\n",
    "    [1, 3],\n",
    "])\n",
    "answer = np.array([\n",
    "    [5],\n",
    "    [7],\n",
    "])\n",
    "print(np.linalg.pinv(x))"
   ]
  }
 ],
 "metadata": {
  "kernelspec": {
   "display_name": "Python 3.10.6 64-bit",
   "language": "python",
   "name": "python3"
  },
  "language_info": {
   "codemirror_mode": {
    "name": "ipython",
    "version": 3
   },
   "file_extension": ".py",
   "mimetype": "text/x-python",
   "name": "python",
   "nbconvert_exporter": "python",
   "pygments_lexer": "ipython3",
   "version": "3.10.6"
  },
  "orig_nbformat": 4,
  "vscode": {
   "interpreter": {
    "hash": "e47027aeeb19c7c3a0f3c5a312a03a5f27825e8f65374bb0b66c2b486ae02b4f"
   }
  }
 },
 "nbformat": 4,
 "nbformat_minor": 2
}
