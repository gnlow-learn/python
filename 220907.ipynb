{
 "cells": [
  {
   "cell_type": "markdown",
   "metadata": {},
   "source": [
    "# 220907\n",
    "- 인공지능 수학\n",
    "- 벡터"
   ]
  },
  {
   "cell_type": "code",
   "execution_count": 19,
   "metadata": {},
   "outputs": [],
   "source": [
    "from typing import Dict, Union\n",
    "\n",
    "def log(data):\n",
    "    for k, v in data.__dict__.items():\n",
    "        try:\n",
    "            print(k + \": \", v())\n",
    "        except TypeError:\n",
    "            pass"
   ]
  },
  {
   "cell_type": "code",
   "execution_count": 47,
   "metadata": {},
   "outputs": [
    {
     "name": "stdout",
     "output_type": "stream",
     "text": [
      "벡터:  [1 2 3]\n",
      "벡터의_덧셈:  [5 7 9]\n",
      "벡터의_뺄셈:  [-3 -3 -3]\n",
      "벡터의_내적:  [ 4 10 18]\n",
      "벡터의_L1_노름:  7.0\n",
      "벡터의_L1_노름_2:  7\n",
      "벡터의_L2_노름:  5.0\n",
      "벡터의_L2_노름_2:  5.0\n"
     ]
    }
   ],
   "source": [
    "import numpy as np\n",
    "\n",
    "class Logger():\n",
    "    def 벡터():\n",
    "        # 벡터는 공간에서 한 점을 나타냄\n",
    "        # 벡터는 원점으로부터 상대적 위치릂 표현\n",
    "        return np.array([1, 2, 3])\n",
    "\n",
    "    def 벡터의_덧셈():\n",
    "        # 두 벡터의 덧셈은 다른 벡터로부터 상대적 위치 이동을 표현\n",
    "        x = np.array([1, 2, 3])\n",
    "        y = np.array([4, 5, 6])\n",
    "        return x + y\n",
    "\n",
    "    def 벡터의_뺄셈():\n",
    "        # 뻴셈은 방향을 뒤집은 덧셈이다\n",
    "        x = np.array([1, 2, 3])\n",
    "        y = np.array([4, 5, 6])\n",
    "        return x - y\n",
    "\n",
    "    def 벡터의_내적():\n",
    "        # 내적: 각 성분의 곱\n",
    "        x = np.array([1, 2, 3])\n",
    "        y = np.array([4, 5, 6])\n",
    "        return x * y\n",
    "\n",
    "\n",
    "    # 벡터의 노름은 원점에서부터의 거리\n",
    "    def 벡터의_L1_노름():\n",
    "        # 각 성분의 변화량의 절대값을 모두 더한다\n",
    "        x = np.array([3, 4])\n",
    "        return np.linalg.norm(x, ord=1)\n",
    "    \n",
    "    def 벡터의_L1_노름_2():\n",
    "        x = np.array([3, 4])\n",
    "        return np.sum(np.abs(x))\n",
    "    \n",
    "    def 벡터의_L2_노름():\n",
    "        # 피타고라스 정리를 이용해 유클리드 거리를 계산한다\n",
    "        x = np.array([3, 4])\n",
    "        return np.linalg.norm(x, ord=2)\n",
    "\n",
    "    def 벡터의_L2_노름_2():\n",
    "        x = np.array([3, 4])\n",
    "        return np.sum(np.sqrt(np.sum(x*x)))\n",
    "\n",
    "log(Logger)"
   ]
  },
  {
   "cell_type": "code",
   "execution_count": 44,
   "metadata": {},
   "outputs": [
    {
     "name": "stdout",
     "output_type": "stream",
     "text": [
      "a <class 'int'>\n",
      "b <class 'int'>\n",
      "{'a': <class 'int'>, 'b': <class 'int'>}\n"
     ]
    }
   ],
   "source": [
    "from inspect import signature\n",
    "\n",
    "def plus(a: int, b: int):\n",
    "    return a + b\n",
    "\n",
    "for k, v in signature(plus).parameters.items():\n",
    "    print(k, v.annotation)\n"
   ]
  }
 ],
 "metadata": {
  "kernelspec": {
   "display_name": "Python 3.10.6 64-bit",
   "language": "python",
   "name": "python3"
  },
  "language_info": {
   "codemirror_mode": {
    "name": "ipython",
    "version": 3
   },
   "file_extension": ".py",
   "mimetype": "text/x-python",
   "name": "python",
   "nbconvert_exporter": "python",
   "pygments_lexer": "ipython3",
   "version": "3.10.6"
  },
  "orig_nbformat": 4,
  "vscode": {
   "interpreter": {
    "hash": "e47027aeeb19c7c3a0f3c5a312a03a5f27825e8f65374bb0b66c2b486ae02b4f"
   }
  }
 },
 "nbformat": 4,
 "nbformat_minor": 2
}
