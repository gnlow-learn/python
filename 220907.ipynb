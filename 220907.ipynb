{
 "cells": [
  {
   "cell_type": "markdown",
   "metadata": {},
   "source": [
    "# 220907\n",
    "- 인공지능 수학\n",
    "- 벡터"
   ]
  },
  {
   "cell_type": "code",
   "execution_count": 110,
   "metadata": {},
   "outputs": [],
   "source": [
    "from typing import Dict, Union\n",
    "from inspect import isclass, signature, isfunction\n",
    "\n",
    "def iprint(indent, *str):\n",
    "    print(\" \" * (4 * indent - 1), *str)\n",
    "\n",
    "\n",
    "\n",
    "def log(data, indent=0):\n",
    "    for k, v in data.__dict__.items():\n",
    "        if isclass(v):\n",
    "            iprint(indent, k.replace(\"_\", \" \") + \":\")\n",
    "            log(v, indent + 1)\n",
    "        else:\n",
    "            if isfunction(v):\n",
    "                iprint(indent, k.replace(\"_\", \" \") + \":\", v())\n",
    "\n",
    "def star(f):\n",
    "    return lambda args: f(*args)\n",
    "    \n",
    "import numpy as np\n",
    "from toolz.functoolz import pipe\n",
    "from numpy.typing import NDArray\n",
    "import re"
   ]
  },
  {
   "cell_type": "markdown",
   "metadata": {},
   "source": [
    "### 테스트"
   ]
  },
  {
   "cell_type": "code",
   "execution_count": 68,
   "metadata": {},
   "outputs": [
    {
     "name": "stdout",
     "output_type": "stream",
     "text": [
      "aa:  1\n",
      "B:\n",
      "  vv:  2\n"
     ]
    }
   ],
   "source": [
    "class L:\n",
    "    def aa():\n",
    "        return 1\n",
    "    class B:\n",
    "        def vv():\n",
    "            return 2\n",
    "\n",
    "log(L)"
   ]
  },
  {
   "cell_type": "code",
   "execution_count": 115,
   "metadata": {},
   "outputs": [
    {
     "name": "stdout",
     "output_type": "stream",
     "text": [
      "a int\n",
      "b int\n",
      "int\n"
     ]
    }
   ],
   "source": [
    "def plus(a: int, b: int):\n",
    "    return a + b\n",
    "\n",
    "def parseType(annotation):\n",
    "    return re.compile(r'<class \\'(.*)\\'>').match(str(annotation)).group(1)\n",
    "\n",
    "for k, v in signature(plus).parameters.items():\n",
    "    print(k, parseType(v.annotation))\n",
    "\n",
    "print(re.compile(r'<class \\'(.*)\\'>').match(\"<class 'int'>\").group(1))"
   ]
  },
  {
   "cell_type": "markdown",
   "metadata": {},
   "source": [
    "## 벡터"
   ]
  },
  {
   "cell_type": "code",
   "execution_count": 82,
   "metadata": {},
   "outputs": [
    {
     "name": "stdout",
     "output_type": "stream",
     "text": [
      " 벡터: [1 2 3]\n",
      " 벡터의 덧셈: [5 7 9]\n",
      " 벡터의 뺄셈: [-3 -3 -3]\n",
      " 벡터의 내적: [ 4 10 18]\n",
      " 벡터의 노름:\n",
      "    L1:\n",
      "        numpy 내장 함수: 7.0\n",
      "        직접 구현: 7\n",
      "    L2:\n",
      "        numpy 내장 함수: 5.0\n",
      "        직접 구현: 5.0\n"
     ]
    }
   ],
   "source": [
    "@log\n",
    "class 벡터():\n",
    "    def 벡터():\n",
    "        # 벡터는 공간에서 한 점을 나타냄\n",
    "        # 벡터는 원점으로부터 상대적 위치릂 표현\n",
    "        return np.array([1, 2, 3])\n",
    "\n",
    "    def 벡터의_덧셈():\n",
    "        # 두 벡터의 덧셈은 다른 벡터로부터 상대적 위치 이동을 표현\n",
    "        x = np.array([1, 2, 3])\n",
    "        y = np.array([4, 5, 6])\n",
    "        return x + y\n",
    "\n",
    "    def 벡터의_뺄셈():\n",
    "        # 뻴셈은 방향을 뒤집은 덧셈이다\n",
    "        x = np.array([1, 2, 3])\n",
    "        y = np.array([4, 5, 6])\n",
    "        return x - y\n",
    "\n",
    "    def 벡터의_내적():\n",
    "        # 내적: 각 성분의 곱\n",
    "        x = np.array([1, 2, 3])\n",
    "        y = np.array([4, 5, 6])\n",
    "        return x * y\n",
    "\n",
    "\n",
    "    # 벡터의 노름은 원점에서부터의 거리\n",
    "    class 벡터의_노름:\n",
    "        class L1:\n",
    "            def numpy_내장_함수():\n",
    "                # 각 성분의 변화량의 절대값을 모두 더한다\n",
    "                x = np.array([3, 4])\n",
    "                return np.linalg.norm(x, ord=1)\n",
    "            \n",
    "            def 직접_구현():\n",
    "                x = np.array([3, 4])\n",
    "                return pipe(\n",
    "                    x,\n",
    "                    np.abs,\n",
    "                    np.sum,\n",
    "                )\n",
    "        class L2:\n",
    "            def numpy_내장_함수():\n",
    "                # 피타고라스 정리를 이용해 유클리드 거리를 계산한다\n",
    "                x = np.array([3, 4])\n",
    "                return np.linalg.norm(x, ord=2)\n",
    "\n",
    "            def 직접_구현():\n",
    "                x = np.array([3, 4])\n",
    "                return pipe(\n",
    "                    x,\n",
    "                    lambda x: x*x,\n",
    "                    np.sum,\n",
    "                    np.sqrt,\n",
    "                    np.sum,\n",
    "                )"
   ]
  },
  {
   "cell_type": "markdown",
   "metadata": {},
   "source": [
    "### 두 벡터 사이의 각도"
   ]
  },
  {
   "cell_type": "code",
   "execution_count": 101,
   "metadata": {},
   "outputs": [
    {
     "name": "stdout",
     "output_type": "stream",
     "text": [
      " 두 벡터 사이의 각도: [90. 90.]\n"
     ]
    }
   ],
   "source": [
    "def angle(p: NDArray, q: NDArray):\n",
    "    return pipe(\n",
    "        (p, q),\n",
    "        star(lambda p, q: (\n",
    "            p * q\n",
    "            /\n",
    "            (np.linalg.norm(p) * np.linalg.norm(q))\n",
    "        )),\n",
    "        np.arccos,\n",
    "        np.rad2deg,\n",
    "    )\n",
    "\n",
    "@log\n",
    "class 두_벡터_사이의_각도:\n",
    "    def 두_벡터_사이의_각도():\n",
    "        p = np.array([0, 1])\n",
    "        q = np.array([1, 0])\n",
    "        return angle(p, q)"
   ]
  },
  {
   "cell_type": "code",
   "execution_count": 99,
   "metadata": {},
   "outputs": [
    {
     "data": {
      "text/plain": [
       "3"
      ]
     },
     "execution_count": 99,
     "metadata": {},
     "output_type": "execute_result"
    }
   ],
   "source": [
    "\n",
    "\n",
    "pipe(\n",
    "    (1, 2),\n",
    "    star(lambda p, q: p + q)\n",
    ")"
   ]
  },
  {
   "cell_type": "markdown",
   "metadata": {},
   "source": [
    "## 행렬"
   ]
  },
  {
   "cell_type": "code",
   "execution_count": 108,
   "metadata": {},
   "outputs": [
    {
     "name": "stdout",
     "output_type": "stream",
     "text": [
      " 행렬: [[1 2 3]\n",
      " [4 5 6]\n",
      " [7 8 9]]\n"
     ]
    }
   ],
   "source": [
    "@log\n",
    "class 행렬:\n",
    "    def 행렬():\n",
    "        # 행렬은 벡터를 원소로 가지는 2차원 배열\n",
    "        return np.array([\n",
    "            [1, 2, 3],\n",
    "            [4, 5, 6],\n",
    "            [7, 8, 9],\n",
    "        ])"
   ]
  }
 ],
 "metadata": {
  "kernelspec": {
   "display_name": "Python 3.10.6 64-bit",
   "language": "python",
   "name": "python3"
  },
  "language_info": {
   "codemirror_mode": {
    "name": "ipython",
    "version": 3
   },
   "file_extension": ".py",
   "mimetype": "text/x-python",
   "name": "python",
   "nbconvert_exporter": "python",
   "pygments_lexer": "ipython3",
   "version": "3.10.6"
  },
  "orig_nbformat": 4,
  "vscode": {
   "interpreter": {
    "hash": "e47027aeeb19c7c3a0f3c5a312a03a5f27825e8f65374bb0b66c2b486ae02b4f"
   }
  }
 },
 "nbformat": 4,
 "nbformat_minor": 2
}
