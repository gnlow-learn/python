{
 "cells": [
  {
   "cell_type": "markdown",
   "metadata": {},
   "source": [
    "# 220907\n",
    "- 인공지능 수학\n",
    "- 벡터"
   ]
  },
  {
   "cell_type": "code",
   "execution_count": 9,
   "metadata": {},
   "outputs": [],
   "source": [
    "%load_ext autoreload\n",
    "%autoreload 1\n",
    "%aimport src.log\n",
    "\n",
    "from src.log import log, star\n",
    "    \n",
    "import numpy as np\n",
    "from toolz.functoolz import pipe\n",
    "from numpy.typing import NDArray"
   ]
  },
  {
   "cell_type": "markdown",
   "metadata": {},
   "source": [
    "## 벡터"
   ]
  },
  {
   "cell_type": "code",
   "execution_count": null,
   "metadata": {},
   "outputs": [],
   "source": [
    "@log\n",
    "class 벡터():\n",
    "    def 벡터():\n",
    "        # 벡터는 공간에서 한 점을 나타냄\n",
    "        # 벡터는 원점으로부터 상대적 위치릂 표현\n",
    "        return np.array([1, 2, 3])\n",
    "\n",
    "    def 벡터의_덧셈():\n",
    "        # 두 벡터의 덧셈은 다른 벡터로부터 상대적 위치 이동을 표현\n",
    "        x = np.array([1, 2, 3])\n",
    "        y = np.array([4, 5, 6])\n",
    "        return x + y\n",
    "\n",
    "    def 벡터의_뺄셈():\n",
    "        # 뻴셈은 방향을 뒤집은 덧셈이다\n",
    "        x = np.array([1, 2, 3])\n",
    "        y = np.array([4, 5, 6])\n",
    "        return x - y\n",
    "\n",
    "    def 벡터의_내적():\n",
    "        # 내적: 각 성분의 곱\n",
    "        x = np.array([1, 2, 3])\n",
    "        y = np.array([4, 5, 6])\n",
    "        return x * y\n",
    "\n",
    "\n",
    "    # 벡터의 노름은 원점에서부터의 거리\n",
    "    class 벡터의_노름:\n",
    "        class L1:\n",
    "            def numpy_내장_함수():\n",
    "                # 각 성분의 변화량의 절대값을 모두 더한다\n",
    "                x = np.array([3, 4])\n",
    "                return np.linalg.norm(x, ord=1)\n",
    "            \n",
    "            def 직접_구현():\n",
    "                x = np.array([3, 4])\n",
    "                return pipe(\n",
    "                    x,\n",
    "                    np.abs,\n",
    "                    np.sum,\n",
    "                )\n",
    "        class L2:\n",
    "            def numpy_내장_함수():\n",
    "                # 피타고라스 정리를 이용해 유클리드 거리를 계산한다\n",
    "                x = np.array([3, 4])\n",
    "                return np.linalg.norm(x, ord=2)\n",
    "\n",
    "            def 직접_구현():\n",
    "                x = np.array([3, 4])\n",
    "                return pipe(\n",
    "                    x,\n",
    "                    lambda x: x*x,\n",
    "                    np.sum,\n",
    "                    np.sqrt,\n",
    "                    np.sum,\n",
    "                )"
   ]
  },
  {
   "cell_type": "markdown",
   "metadata": {},
   "source": [
    "### 두 벡터 사이의 각도"
   ]
  },
  {
   "cell_type": "code",
   "execution_count": null,
   "metadata": {},
   "outputs": [],
   "source": [
    "def angle(p: NDArray, q: NDArray):\n",
    "    return pipe(\n",
    "        (p, q),\n",
    "        star(lambda p, q: (\n",
    "            p * q\n",
    "            /\n",
    "            (np.linalg.norm(p) * np.linalg.norm(q))\n",
    "        )),\n",
    "        np.arccos,\n",
    "        np.rad2deg,\n",
    "    )\n",
    "\n",
    "@log\n",
    "class 두_벡터_사이의_각도:\n",
    "    def 두_벡터_사이의_각도():\n",
    "        p = np.array([0, 1])\n",
    "        q = np.array([1, 0])\n",
    "        return angle(p, q)"
   ]
  },
  {
   "cell_type": "code",
   "execution_count": null,
   "metadata": {},
   "outputs": [],
   "source": [
    "\n",
    "\n",
    "pipe(\n",
    "    (1, 2),\n",
    "    star(lambda p, q: p + q)\n",
    ")"
   ]
  },
  {
   "cell_type": "markdown",
   "metadata": {},
   "source": [
    "## 행렬"
   ]
  },
  {
   "cell_type": "code",
   "execution_count": null,
   "metadata": {},
   "outputs": [],
   "source": [
    "@log\n",
    "class 행렬:\n",
    "    def 행렬():\n",
    "        # 행렬은 벡터를 원소로 가지는 2차원 배열\n",
    "        return np.array([\n",
    "            [1, 2, 3],\n",
    "            [4, 5, 6],\n",
    "            [7, 8, 9],\n",
    "        ])"
   ]
  }
 ],
 "metadata": {
  "kernelspec": {
   "display_name": "Python 3.10.6 64-bit",
   "language": "python",
   "name": "python3"
  },
  "language_info": {
   "codemirror_mode": {
    "name": "ipython",
    "version": 3
   },
   "file_extension": ".py",
   "mimetype": "text/x-python",
   "name": "python",
   "nbconvert_exporter": "python",
   "pygments_lexer": "ipython3",
   "version": "3.10.6"
  },
  "orig_nbformat": 4,
  "vscode": {
   "interpreter": {
    "hash": "e47027aeeb19c7c3a0f3c5a312a03a5f27825e8f65374bb0b66c2b486ae02b4f"
   }
  }
 },
 "nbformat": 4,
 "nbformat_minor": 2
}
