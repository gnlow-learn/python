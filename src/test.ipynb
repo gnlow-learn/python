{
 "cells": [
  {
   "cell_type": "markdown",
   "metadata": {},
   "source": [
    "# Test"
   ]
  },
  {
   "cell_type": "code",
   "execution_count": 4,
   "metadata": {},
   "outputs": [
    {
     "name": "stdout",
     "output_type": "stream",
     "text": [
      "The autoreload extension is already loaded. To reload it, use:\n",
      "  %reload_ext autoreload\n"
     ]
    }
   ],
   "source": [
    "%load_ext autoreload\n",
    "%autoreload 1\n",
    "%aimport log\n",
    "\n",
    "from log import log, star"
   ]
  },
  {
   "cell_type": "code",
   "execution_count": 6,
   "metadata": {},
   "outputs": [
    {
     "name": "stdout",
     "output_type": "stream",
     "text": [
      " aa: 1\n",
      " B:\n",
      "    vv: 2\n"
     ]
    }
   ],
   "source": [
    "@log\n",
    "class L:\n",
    "    def aa():\n",
    "        return 1\n",
    "    class B:\n",
    "        def vv():\n",
    "            return 2"
   ]
  },
  {
   "cell_type": "code",
   "execution_count": null,
   "metadata": {},
   "outputs": [],
   "source": [
    "from inspect import isclass, signature, isfunction\n",
    "import re\n",
    "\n",
    "def plus(a: int, b: int):\n",
    "    return a + b\n",
    "\n",
    "def parseType(annotation):\n",
    "    return re.compile(r'<class \\'(.*)\\'>').match(str(annotation)).group(1)\n",
    "\n",
    "for k, v in signature(plus).parameters.items():\n",
    "    print(k, parseType(v.annotation))\n",
    "\n",
    "print(re.compile(r'<class \\'(.*)\\'>').match(\"<class 'int'>\").group(1))"
   ]
  }
 ],
 "metadata": {
  "kernelspec": {
   "display_name": "Python 3.10.6 64-bit",
   "language": "python",
   "name": "python3"
  },
  "language_info": {
   "codemirror_mode": {
    "name": "ipython",
    "version": 3
   },
   "file_extension": ".py",
   "mimetype": "text/x-python",
   "name": "python",
   "nbconvert_exporter": "python",
   "pygments_lexer": "ipython3",
   "version": "3.10.6"
  },
  "orig_nbformat": 4,
  "vscode": {
   "interpreter": {
    "hash": "e47027aeeb19c7c3a0f3c5a312a03a5f27825e8f65374bb0b66c2b486ae02b4f"
   }
  }
 },
 "nbformat": 4,
 "nbformat_minor": 2
}
