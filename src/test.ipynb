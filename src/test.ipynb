{
 "cells": [
  {
   "cell_type": "markdown",
   "metadata": {},
   "source": [
    "# Test"
   ]
  },
  {
   "cell_type": "code",
   "execution_count": 4,
   "metadata": {},
   "outputs": [
    {
     "name": "stdout",
     "output_type": "stream",
     "text": [
      "The autoreload extension is already loaded. To reload it, use:\n",
      "  %reload_ext autoreload\n"
     ]
    }
   ],
   "source": [
    "%load_ext autoreload\n",
    "%autoreload 1\n",
    "%aimport log\n",
    "\n",
    "from log import log, star"
   ]
  },
  {
   "cell_type": "code",
   "execution_count": 6,
   "metadata": {},
   "outputs": [
    {
     "name": "stdout",
     "output_type": "stream",
     "text": [
      " aa: 1\n",
      " B:\n",
      "    vv: 2\n"
     ]
    }
   ],
   "source": [
    "@log\n",
    "class L:\n",
    "    def aa():\n",
    "        return 1\n",
    "    class B:\n",
    "        def vv():\n",
    "            return 2"
   ]
  },
  {
   "cell_type": "code",
   "execution_count": 39,
   "metadata": {},
   "outputs": [
    {
     "ename": "TypeError",
     "evalue": "isinstance() argument 2 cannot be a parameterized generic",
     "output_type": "error",
     "traceback": [
      "\u001b[1;31m---------------------------------------------------------------------------\u001b[0m",
      "\u001b[1;31mTypeError\u001b[0m                                 Traceback (most recent call last)",
      "\u001b[1;32mc:\\learn-python\\src\\test.ipynb Cell 4\u001b[0m in \u001b[0;36m<cell line: 12>\u001b[1;34m()\u001b[0m\n\u001b[0;32m     <a href='vscode-notebook-cell:/c%3A/learn-python/src/test.ipynb#W5sZmlsZQ%3D%3D?line=9'>10</a>\u001b[0m     \u001b[39mreturn\u001b[39;00m re\u001b[39m.\u001b[39mcompile(\u001b[39mr\u001b[39m\u001b[39m'\u001b[39m\u001b[39m<class \u001b[39m\u001b[39m\\'\u001b[39;00m\u001b[39m(.*)\u001b[39m\u001b[39m\\'\u001b[39;00m\u001b[39m>\u001b[39m\u001b[39m'\u001b[39m)\u001b[39m.\u001b[39mmatch(\u001b[39mstr\u001b[39m(annotation))\u001b[39m.\u001b[39mgroup(\u001b[39m1\u001b[39m)\n\u001b[0;32m     <a href='vscode-notebook-cell:/c%3A/learn-python/src/test.ipynb#W5sZmlsZQ%3D%3D?line=11'>12</a>\u001b[0m \u001b[39mfor\u001b[39;00m k, v \u001b[39min\u001b[39;00m signature(plus)\u001b[39m.\u001b[39mparameters\u001b[39m.\u001b[39mitems():\n\u001b[1;32m---> <a href='vscode-notebook-cell:/c%3A/learn-python/src/test.ipynb#W5sZmlsZQ%3D%3D?line=12'>13</a>\u001b[0m     \u001b[39mprint\u001b[39m(k, \u001b[39misinstance\u001b[39;49m(v\u001b[39m.\u001b[39;49mannotation, GenericAlias(NDArray, \u001b[39many\u001b[39;49m)))\n\u001b[0;32m     <a href='vscode-notebook-cell:/c%3A/learn-python/src/test.ipynb#W5sZmlsZQ%3D%3D?line=14'>15</a>\u001b[0m \u001b[39mprint\u001b[39m(re\u001b[39m.\u001b[39mcompile(\u001b[39mr\u001b[39m\u001b[39m'\u001b[39m\u001b[39m<class \u001b[39m\u001b[39m\\'\u001b[39;00m\u001b[39m(.*)\u001b[39m\u001b[39m\\'\u001b[39;00m\u001b[39m>\u001b[39m\u001b[39m'\u001b[39m)\u001b[39m.\u001b[39mmatch(\u001b[39m\"\u001b[39m\u001b[39m<class \u001b[39m\u001b[39m'\u001b[39m\u001b[39mint\u001b[39m\u001b[39m'\u001b[39m\u001b[39m>\u001b[39m\u001b[39m\"\u001b[39m)\u001b[39m.\u001b[39mgroup(\u001b[39m1\u001b[39m))\n",
      "\u001b[1;31mTypeError\u001b[0m: isinstance() argument 2 cannot be a parameterized generic"
     ]
    }
   ],
   "source": [
    "from inspect import isclass, signature, isfunction\n",
    "from numpy.typing import NDArray\n",
    "import re\n",
    "from types import GenericAlias\n",
    "\n",
    "def plus(a: NDArray, b: NDArray | str):\n",
    "    return a + b\n",
    "\n",
    "def parseType(annotation):\n",
    "    return re.compile(r'<class \\'(.*)\\'>').match(str(annotation)).group(1)\n",
    "\n",
    "for k, v in signature(plus).parameters.items():\n",
    "    print(k, isinstance(v.annotation, GenericAlias(NDArray, any)))\n",
    "\n",
    "print(re.compile(r'<class \\'(.*)\\'>').match(\"<class 'int'>\").group(1))\n",
    "#print(1 | \"4\")"
   ]
  },
  {
   "cell_type": "code",
   "execution_count": 48,
   "metadata": {},
   "outputs": [
    {
     "data": {
      "text/plain": [
       "True"
      ]
     },
     "execution_count": 48,
     "metadata": {},
     "output_type": "execute_result"
    }
   ],
   "source": [
    "def lol(arg: str | int):\n",
    "    return arg + arg\n",
    "\n",
    "signature(lol).parameters[\"arg\"].annotation == int | str # True!!!!!"
   ]
  }
 ],
 "metadata": {
  "kernelspec": {
   "display_name": "Python 3.10.6 64-bit",
   "language": "python",
   "name": "python3"
  },
  "language_info": {
   "codemirror_mode": {
    "name": "ipython",
    "version": 3
   },
   "file_extension": ".py",
   "mimetype": "text/x-python",
   "name": "python",
   "nbconvert_exporter": "python",
   "pygments_lexer": "ipython3",
   "version": "3.10.6"
  },
  "orig_nbformat": 4,
  "vscode": {
   "interpreter": {
    "hash": "e47027aeeb19c7c3a0f3c5a312a03a5f27825e8f65374bb0b66c2b486ae02b4f"
   }
  }
 },
 "nbformat": 4,
 "nbformat_minor": 2
}
