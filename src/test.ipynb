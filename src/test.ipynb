{
 "cells": [
  {
   "cell_type": "markdown",
   "metadata": {},
   "source": [
    "# Test"
   ]
  },
  {
   "cell_type": "code",
   "execution_count": 15,
   "metadata": {},
   "outputs": [],
   "source": [
    "%load_ext autoreload\n",
    "%autoreload 1\n",
    "%aimport log\n",
    "\n",
    "from log import log, star"
   ]
  },
  {
   "cell_type": "code",
   "execution_count": 49,
   "metadata": {},
   "outputs": [
    {
     "name": "stdout",
     "output_type": "stream",
     "text": [
      "1\n",
      "1\n",
      " aa: [numpy.ndarray[typing.Any, numpy.dtype[numpy.int8]], numpy.ndarray[typing.Any, numpy.dtype[numpy.int8]]]\n",
      " B:\n",
      "    vv: []\n"
     ]
    },
    {
     "name": "stderr",
     "output_type": "stream",
     "text": [
      "[autoreload of log failed: Traceback (most recent call last):\n",
      "  File \"c:\\Users\\KH\\AppData\\Local\\Programs\\Python\\Python310\\lib\\site-packages\\IPython\\extensions\\autoreload.py\", line 257, in check\n",
      "    superreload(m, reload, self.old_objects)\n",
      "  File \"c:\\Users\\KH\\AppData\\Local\\Programs\\Python\\Python310\\lib\\site-packages\\IPython\\extensions\\autoreload.py\", line 455, in superreload\n",
      "    module = reload(module)\n",
      "  File \"c:\\Users\\KH\\AppData\\Local\\Programs\\Python\\Python310\\lib\\importlib\\__init__.py\", line 169, in reload\n",
      "    _bootstrap._exec(spec, module)\n",
      "  File \"<frozen importlib._bootstrap>\", line 619, in _exec\n",
      "  File \"<frozen importlib._bootstrap_external>\", line 879, in exec_module\n",
      "  File \"<frozen importlib._bootstrap_external>\", line 1017, in get_code\n",
      "  File \"<frozen importlib._bootstrap_external>\", line 947, in source_to_code\n",
      "  File \"<frozen importlib._bootstrap>\", line 241, in _call_with_frames_removed\n",
      "  File \"c:\\learn-python\\src\\log.py\", line 20\n",
      "    case Arr[Int]:\n",
      "            ^\n",
      "SyntaxError: invalid syntax\n",
      "]\n"
     ]
    },
    {
     "ename": "TypeError",
     "evalue": "expected a sequence of integers or a single integer, got 'dtype([('name', '<U16'), ('grades', '<f8', (2,))])'",
     "output_type": "error",
     "traceback": [
      "\u001b[1;31m---------------------------------------------------------------------------\u001b[0m",
      "\u001b[1;31mTypeError\u001b[0m                                 Traceback (most recent call last)",
      "\u001b[1;32mc:\\learn-python\\src\\test.ipynb Cell 3\u001b[0m in \u001b[0;36m<cell line: 12>\u001b[1;34m()\u001b[0m\n\u001b[0;32m      <a href='vscode-notebook-cell:/c%3A/learn-python/src/test.ipynb#W2sZmlsZQ%3D%3D?line=8'>9</a>\u001b[0m         \u001b[39mdef\u001b[39;00m \u001b[39mvv\u001b[39m():\n\u001b[0;32m     <a href='vscode-notebook-cell:/c%3A/learn-python/src/test.ipynb#W2sZmlsZQ%3D%3D?line=9'>10</a>\u001b[0m             \u001b[39mreturn\u001b[39;00m \u001b[39m2\u001b[39m\n\u001b[1;32m---> <a href='vscode-notebook-cell:/c%3A/learn-python/src/test.ipynb#W2sZmlsZQ%3D%3D?line=11'>12</a>\u001b[0m np\u001b[39m.\u001b[39;49mndarray(np\u001b[39m.\u001b[39;49mdtype([(\u001b[39m'\u001b[39;49m\u001b[39mname\u001b[39;49m\u001b[39m'\u001b[39;49m, np\u001b[39m.\u001b[39;49mstr_, \u001b[39m16\u001b[39;49m), (\u001b[39m'\u001b[39;49m\u001b[39mgrades\u001b[39;49m\u001b[39m'\u001b[39;49m, np\u001b[39m.\u001b[39;49mfloat64, (\u001b[39m2\u001b[39;49m,))]))\n",
      "\u001b[1;31mTypeError\u001b[0m: expected a sequence of integers or a single integer, got 'dtype([('name', '<U16'), ('grades', '<f8', (2,))])'"
     ]
    }
   ],
   "source": [
    "import numpy as np\n",
    "from numpy.typing import NDArray\n",
    "\n",
    "@log\n",
    "class L:\n",
    "    def aa(a: np.ndarray([1, 2], np.int8), b: NDArray[np.int8]):\n",
    "        return a + b\n",
    "    class B:\n",
    "        def vv():\n",
    "            return 2\n",
    "\n",
    "np.ndarray([1, 2], np.int8)"
   ]
  },
  {
   "cell_type": "code",
   "execution_count": 13,
   "metadata": {},
   "outputs": [
    {
     "name": "stdout",
     "output_type": "stream",
     "text": [
      "a numpy.ndarray[typing.Any, numpy.dtype[+ScalarType]] False\n",
      "b numpy.ndarray[typing.Any, numpy.dtype[+ScalarType]] | str False\n",
      "int\n",
      "<class 'numpy.ndarray'>\n"
     ]
    }
   ],
   "source": [
    "from inspect import isclass, signature, isfunction\n",
    "from numpy.typing import NDArray, DTypeLike\n",
    "import re\n",
    "from types import GenericAlias\n",
    "\n",
    "def plus(a: NDArray, b: NDArray | str):\n",
    "    return a + b\n",
    "\n",
    "def parseType(annotation):\n",
    "    return re.compile(r'<class \\'(.*)\\'>').match(str(annotation)).group(1)\n",
    "\n",
    "for k, v in signature(plus).parameters.items():\n",
    "    print(k, v.annotation, v.annotation == np.ndarray[any, np.dtype])\n",
    "\n",
    "print(re.compile(r'<class \\'(.*)\\'>').match(\"<class 'int'>\").group(1))\n",
    "\n",
    "import numpy as np\n",
    "print(type(np.array([1,2,3])))\n",
    "#print(1 | \"4\")"
   ]
  },
  {
   "cell_type": "code",
   "execution_count": 40,
   "metadata": {},
   "outputs": [
    {
     "data": {
      "text/plain": [
       "True"
      ]
     },
     "execution_count": 40,
     "metadata": {},
     "output_type": "execute_result"
    }
   ],
   "source": [
    "def lol(arg: str | int):\n",
    "    return arg + arg\n",
    "\n",
    "signature(lol).parameters[\"arg\"].annotation == int | str # True!!!!!"
   ]
  },
  {
   "cell_type": "code",
   "execution_count": 43,
   "metadata": {},
   "outputs": [
    {
     "name": "stdout",
     "output_type": "stream",
     "text": [
      "1\n",
      "2\n"
     ]
    }
   ],
   "source": [
    "for a in map(lambda x: x, list([1, 2])):\n",
    "    print(a)"
   ]
  }
 ],
 "metadata": {
  "kernelspec": {
   "display_name": "Python 3.10.6 64-bit",
   "language": "python",
   "name": "python3"
  },
  "language_info": {
   "codemirror_mode": {
    "name": "ipython",
    "version": 3
   },
   "file_extension": ".py",
   "mimetype": "text/x-python",
   "name": "python",
   "nbconvert_exporter": "python",
   "pygments_lexer": "ipython3",
   "version": "3.10.6"
  },
  "orig_nbformat": 4,
  "vscode": {
   "interpreter": {
    "hash": "e47027aeeb19c7c3a0f3c5a312a03a5f27825e8f65374bb0b66c2b486ae02b4f"
   }
  }
 },
 "nbformat": 4,
 "nbformat_minor": 2
}
