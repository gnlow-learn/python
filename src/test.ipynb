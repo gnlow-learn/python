{
 "cells": [
  {
   "cell_type": "markdown",
   "metadata": {},
   "source": [
    "# Test"
   ]
  },
  {
   "cell_type": "code",
   "execution_count": 15,
   "metadata": {},
   "outputs": [],
   "source": [
    "%load_ext autoreload\n",
    "%autoreload 1\n",
    "%aimport log\n",
    "\n",
    "from log import log, star"
   ]
  },
  {
   "cell_type": "code",
   "execution_count": 55,
   "metadata": {},
   "outputs": [
    {
     "name": "stdout",
     "output_type": "stream",
     "text": [
      "1\n",
      "1\n",
      " aa: [array([ 1.39752973e-311,  0.00000000e+000, -1.39627330e-311]), numpy.ndarray[typing.Any, numpy.dtype[numpy.int8]]]\n",
      " B:\n",
      "    vv: []\n"
     ]
    },
    {
     "data": {
      "text/plain": [
       "array([[48,  0]], dtype=int8)"
      ]
     },
     "execution_count": 55,
     "metadata": {},
     "output_type": "execute_result"
    }
   ],
   "source": [
    "import numpy as np\n",
    "from numpy.typing import NDArray\n",
    "\n",
    "@log\n",
    "class L:\n",
    "    def aa(a: np.ndarray([3]), b: NDArray[np.int8]):\n",
    "        return a + b\n",
    "    class B:\n",
    "        def vv():\n",
    "            return 2\n",
    "\n",
    "np.ndarray([1, 2], np.int8)"
   ]
  },
  {
   "cell_type": "code",
   "execution_count": 13,
   "metadata": {},
   "outputs": [
    {
     "name": "stdout",
     "output_type": "stream",
     "text": [
      "a numpy.ndarray[typing.Any, numpy.dtype[+ScalarType]] False\n",
      "b numpy.ndarray[typing.Any, numpy.dtype[+ScalarType]] | str False\n",
      "int\n",
      "<class 'numpy.ndarray'>\n"
     ]
    }
   ],
   "source": [
    "from inspect import isclass, signature, isfunction\n",
    "from numpy.typing import NDArray, DTypeLike\n",
    "import re\n",
    "from types import GenericAlias\n",
    "\n",
    "def plus(a: NDArray, b: NDArray | str):\n",
    "    return a + b\n",
    "\n",
    "def parseType(annotation):\n",
    "    return re.compile(r'<class \\'(.*)\\'>').match(str(annotation)).group(1)\n",
    "\n",
    "for k, v in signature(plus).parameters.items():\n",
    "    print(k, v.annotation, v.annotation == np.ndarray[any, np.dtype])\n",
    "\n",
    "print(re.compile(r'<class \\'(.*)\\'>').match(\"<class 'int'>\").group(1))\n",
    "\n",
    "import numpy as np\n",
    "print(type(np.array([1,2,3])))\n",
    "#print(1 | \"4\")"
   ]
  },
  {
   "cell_type": "code",
   "execution_count": 40,
   "metadata": {},
   "outputs": [
    {
     "data": {
      "text/plain": [
       "True"
      ]
     },
     "execution_count": 40,
     "metadata": {},
     "output_type": "execute_result"
    }
   ],
   "source": [
    "def lol(arg: str | int):\n",
    "    return arg + arg\n",
    "\n",
    "signature(lol).parameters[\"arg\"].annotation == int | str # True!!!!!"
   ]
  },
  {
   "cell_type": "code",
   "execution_count": 43,
   "metadata": {},
   "outputs": [
    {
     "name": "stdout",
     "output_type": "stream",
     "text": [
      "1\n",
      "2\n"
     ]
    }
   ],
   "source": [
    "for a in map(lambda x: x, list([1, 2])):\n",
    "    print(a)"
   ]
  }
 ],
 "metadata": {
  "kernelspec": {
   "display_name": "Python 3.10.6 64-bit",
   "language": "python",
   "name": "python3"
  },
  "language_info": {
   "codemirror_mode": {
    "name": "ipython",
    "version": 3
   },
   "file_extension": ".py",
   "mimetype": "text/x-python",
   "name": "python",
   "nbconvert_exporter": "python",
   "pygments_lexer": "ipython3",
   "version": "3.10.6"
  },
  "orig_nbformat": 4,
  "vscode": {
   "interpreter": {
    "hash": "e47027aeeb19c7c3a0f3c5a312a03a5f27825e8f65374bb0b66c2b486ae02b4f"
   }
  }
 },
 "nbformat": 4,
 "nbformat_minor": 2
}
